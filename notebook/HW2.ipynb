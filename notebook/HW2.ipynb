{
 "cells": [
  {
   "cell_type": "markdown",
   "metadata": {},
   "source": [
    "# CSCI-UA 0473 - Introduction to Machine Learning\n",
    "## HW 2 - Programming Assignment"
   ]
  },
  {
   "cell_type": "markdown",
   "metadata": {},
   "source": [
    "## Instructions\n",
    "For this programming assignment, an image (vector) was chosen and was passed through a weird function to obtain something mysterious (vector). \n",
    "\n",
    "You are given the mysterious vector and the weird function used to transform the original image. \n",
    "\n",
    "AND, YOUR TASK IS TO FIND THE ORIGINAL IMAGE.\n",
    "\n",
    "Hint: You will find Autograd helpful."
   ]
  },
  {
   "cell_type": "code",
   "execution_count": 67,
   "metadata": {
    "collapsed": true
   },
   "outputs": [],
   "source": [
    "%matplotlib inline\n",
    "\n",
    "import matplotlib.pyplot as plot\n",
    "import matplotlib.cm as cm\n",
    "\n",
    "from autograd import numpy\n",
    "from autograd import grad\n",
    "\n",
    "from scipy import optimize"
   ]
  },
  {
   "cell_type": "markdown",
   "metadata": {},
   "source": [
    "## 1. Given"
   ]
  },
  {
   "cell_type": "code",
   "execution_count": 3,
   "metadata": {
    "collapsed": true
   },
   "outputs": [],
   "source": [
    "# The mysterious vector\n",
    "\n",
    "import pickle    # Library used to save and load values of variables (Technically, it's called Serialization)\n",
    "\n",
    "shp_original_img = (100, 100)  # Shape of the original image\n",
    "mysterious_image = pickle.load(open('mysterious_image_t.p', 'rb'))"
   ]
  },
  {
   "cell_type": "code",
   "execution_count": 4,
   "metadata": {
    "collapsed": true
   },
   "outputs": [],
   "source": [
    "# The weird function which transformed the original image\n",
    "\n",
    "def weird_function(x, n_iter=5):\n",
    "    h = x    \n",
    "    filt = numpy.array([-1./3, 1./3, -1./3])\n",
    "    \n",
    "    for ii in range(n_iter):\n",
    "        h_l = numpy.concatenate([numpy.array([0]), h[:-1]])\n",
    "        h_r = numpy.concatenate([h[1:], numpy.array([0])])\n",
    "        h = filt[0] * h + filt[-1] * h_l + filt[1] * h_r\n",
    "        \n",
    "        if numpy.mod(ii, 2) == 0:\n",
    "            h = numpy.concatenate([h[h.shape[0]//2:],h[:h.shape[0]//2]])\n",
    "            \n",
    "    return h"
   ]
  },
  {
   "cell_type": "markdown",
   "metadata": {},
   "source": [
    "## 2. Your Solution"
   ]
  },
  {
   "cell_type": "code",
   "execution_count": 2,
   "metadata": {
    "collapsed": true
   },
   "outputs": [],
   "source": [
    "# Your Code\n",
    "\n"
   ]
  }
 ],
 "metadata": {
  "kernelspec": {
   "display_name": "Python [Root]",
   "language": "python",
   "name": "Python [Root]"
  },
  "language_info": {
   "codemirror_mode": {
    "name": "ipython",
    "version": 2
   },
   "file_extension": ".py",
   "mimetype": "text/x-python",
   "name": "python",
   "nbconvert_exporter": "python",
   "pygments_lexer": "ipython2",
   "version": "2.7.12"
  }
 },
 "nbformat": 4,
 "nbformat_minor": 0
}
