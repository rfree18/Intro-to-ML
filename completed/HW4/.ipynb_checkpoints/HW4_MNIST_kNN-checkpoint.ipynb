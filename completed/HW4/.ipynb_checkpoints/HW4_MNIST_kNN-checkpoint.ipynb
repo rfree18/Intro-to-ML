{
 "cells": [
  {
   "cell_type": "markdown",
   "metadata": {},
   "source": [
    "# CSCI-UA 0473 - Introduction to Machine Learning\n",
    "## Wednesday, March 22, 2017"
   ]
  },
  {
   "cell_type": "markdown",
   "metadata": {},
   "source": [
    "## k-Nearest Neighbour - The Lazy Learner"
   ]
  },
  {
   "cell_type": "markdown",
   "metadata": {},
   "source": [
    "The task for this homework is again that of handwritten digit recognition on the MNIST dataset. From the huge corpus of 70k images, I have sampled 3k images uniformly i.e. there are 300 images in each class.\n",
    "\n",
    "I have split the 3k samples into training set (2500 points) and test set (500 points) randomly. This experimental dataset is the same for all and I have provided the pickle files with the corresponding data.\n",
    "\n",
    "In this homework, you will be experimenting with different distance functions and $k$. No complicated (or simple, for some) coding involved. Only play with the distance function and $k$.\n",
    "\n",
    "Conduct your experiments in a principled way to decide the best distance function according to you and the optimal value of $k$ for the best distance function. Use the accuracy score as the evaluation metric.\n",
    "\n",
    "Explain your approach clearly in the write-up.\n",
    "\n",
    "Report your experiment results using plots (preferably) or tables with the accuracies in the write-up.\n",
    "\n",
    "(EXTRA CREDITS) Come up with your own distance function, explain it clearly and provide the results from your distance function."
   ]
  },
  {
   "cell_type": "code",
   "execution_count": 2,
   "metadata": {
    "collapsed": false
   },
   "outputs": [],
   "source": [
    "import numpy as np\n",
    "import pickle\n",
    "import random\n",
    "import pandas as pd\n",
    "import scipy.spatial.distance\n",
    "\n",
    "import matplotlib.pyplot as plt\n",
    "%matplotlib inline"
   ]
  },
  {
   "cell_type": "code",
   "execution_count": 3,
   "metadata": {
    "collapsed": false
   },
   "outputs": [],
   "source": [
    "np.random.seed(1234)"
   ]
  },
  {
   "cell_type": "markdown",
   "metadata": {},
   "source": [
    "## 1. Data Preparation"
   ]
  },
  {
   "cell_type": "code",
   "execution_count": 4,
   "metadata": {
    "collapsed": false
   },
   "outputs": [
    {
     "name": "stdout",
     "output_type": "stream",
     "text": [
      "('Training Data: ', (2500, 784))\n",
      "('Test Data: ', (500, 784))\n",
      "('Training Label Distribution: ', array([249, 253, 253, 246, 249, 248, 245, 244, 261, 252]))\n",
      "('Test Label Distribution: ', array([51, 47, 47, 54, 51, 52, 55, 56, 39, 48]))\n"
     ]
    }
   ],
   "source": [
    "training_data = pickle.load(open('training_data_hw4.p', 'rb'))\n",
    "training_labels = pickle.load(open('training_labels_hw4.p', 'rb'))\n",
    "\n",
    "test_data = pickle.load(open('test_data_hw4.p', 'rb'))\n",
    "test_labels = pickle.load(open('test_labels_hw4.p', 'rb'))\n",
    "\n",
    "\n",
    "print ('Training Data: ', training_data.shape)\n",
    "print ('Test Data: ', test_data.shape)\n",
    "\n",
    "print ('Training Label Distribution: ', np.bincount(training_labels))\n",
    "print ('Test Label Distribution: ', np.bincount(test_labels))"
   ]
  },
  {
   "cell_type": "code",
   "execution_count": 5,
   "metadata": {
    "collapsed": false
   },
   "outputs": [
    {
     "data": {
      "text/plain": [
       "<matplotlib.image.AxesImage at 0x1110a0990>"
      ]
     },
     "execution_count": 5,
     "metadata": {},
     "output_type": "execute_result"
    },
    {
     "data": {
      "image/png": "[encoded data removed]",
      "text/plain": [
       "<matplotlib.figure.Figure at 0x1107e6b50>"
      ]
     },
     "metadata": {},
     "output_type": "display_data"
    }
   ],
   "source": [
    "plt.imshow(training_data[100].reshape((28, 28)))"
   ]
  },
  {
   "cell_type": "markdown",
   "metadata": {},
   "source": [
    "## 2. Model Definition"
   ]
  },
  {
   "cell_type": "code",
   "execution_count": 6,
   "metadata": {
    "collapsed": true
   },
   "outputs": [],
   "source": [
    "def knn_classify(x_, x, y, metric='euclidean', k=1):\n",
    "    if len(x_.shape) < 2:\n",
    "        x_ = x_.reshape([1,-1])\n",
    "        \n",
    "    dists = scipy.spatial.distance.cdist(x_, x, metric)\n",
    "    \n",
    "    sidx = np.argpartition(dists, k, axis=1)[:,:k]\n",
    "    \n",
    "    y_ = np.zeros(len(x_))\n",
    "    for ii, xx_ in enumerate(x_):\n",
    "        yy_, yc_ = np.unique(y[sidx[ii,:]], return_counts=True)\n",
    "        y_[ii] = yy_[np.argmax(yc_)]\n",
    "        \n",
    "    return y_"
   ]
  },
  {
   "cell_type": "markdown",
   "metadata": {},
   "source": [
    "## 3. Modeling - Play Area - Experiment with different distance functions and k"
   ]
  },
  {
   "cell_type": "code",
   "execution_count": 7,
   "metadata": {
    "collapsed": false
   },
   "outputs": [
    {
     "name": "stdout",
     "output_type": "stream",
     "text": [
      "Training accuracy 0.1012, Test accuracy 0.094\n"
     ]
    }
   ],
   "source": [
    "k = 5\n",
    "metric = 'seuclidean'\n",
    "\n",
    "tra_acc = np.sum(knn_classify(training_data, training_data, training_labels, metric, k) == training_labels) / np.float(len(training_labels))\n",
    "tes_acc = np.sum(knn_classify(test_data, training_data, training_labels, metric, k) == test_labels) / np.float(len(test_labels))\n",
    "\n",
    "print 'Training accuracy {}, Test accuracy {}'.format(tra_acc, tes_acc)"
   ]
  },
  {
   "cell_type": "markdown",
   "metadata": {},
   "source": [
    "## 4. Testing"
   ]
  },
  {
   "cell_type": "code",
   "execution_count": 9,
   "metadata": {
    "collapsed": false
   },
   "outputs": [
    {
     "name": "stdout",
     "output_type": "stream",
     "text": [
      "({'chebyshev': 2, 'kulsinski': 2, 'sqeuclidean': 2, 'sokalmichener': 3, 'dice': 2, 'canberra': 2, 'jaccard': 2, 'minkowski': 2, 'seuclidean': 2, 'braycurtis': 2, 'yule': 2, 'euclidean': 2, 'russellrao': 3, 'cosine': 2, 'sokalsneath': 2, 'hamming': 2, 'correlation': 2, 'cityblock': 2, 'rogerstanimoto': 3, 'matching': 3}, {'chebyshev': 0.68400000000000005, 'kulsinski': 0.84599999999999997, 'sqeuclidean': 0.92600000000000005, 'sokalmichener': 0.92200000000000004, 'dice': 0.92800000000000005, 'canberra': 0.90600000000000003, 'jaccard': 0.74199999999999999, 'minkowski': 0.92600000000000005, 'seuclidean': 0.10199999999999999, 'braycurtis': 0.93200000000000005, 'yule': 0.88400000000000001, 'euclidean': 0.92600000000000005, 'russellrao': 0.67200000000000004, 'cosine': 0.94199999999999995, 'sokalsneath': 0.92800000000000005, 'hamming': 0.70199999999999996, 'correlation': 0.94599999999999995, 'cityblock': 0.91200000000000003, 'rogerstanimoto': 0.92200000000000004, 'matching': 0.92200000000000004})\n"
     ]
    }
   ],
   "source": [
    "# REPORT THE TEST ACCURACY USING YOUR EXPERIMENTAL SETUP\n",
    "functions = [\"braycurtis\", \"canberra\", \"chebyshev\", \"cityblock\", \"correlation\", \"cosine\", \"dice\", \"euclidean\", \"hamming\", \"jaccard\", \"kulsinski\", \"matching\", \"minkowski\", \"rogerstanimoto\", \"russellrao\", \"seuclidean\", \"sokalmichener\", \"sokalsneath\", \"sqeuclidean\", \"yule\"]\n",
    "\n",
    "vals = dict.fromkeys(functions)\n",
    "accuracies = dict.fromkeys(functions)\n",
    "for func in functions:\n",
    "    prev = 0\n",
    "    curr = .001\n",
    "    k = 1\n",
    "    while(prev < curr):\n",
    "        tra_acc = np.sum(knn_classify(training_data, training_data, training_labels, func, k) == training_labels) / np.float(len(training_labels))\n",
    "        tes_acc = np.sum(knn_classify(test_data, training_data, training_labels, func, k) == test_labels) / np.float(len(test_labels))\n",
    "        \n",
    "        prev = curr\n",
    "        curr = tes_acc\n",
    "        k = k + 1\n",
    "    vals[func] = k - 1\n",
    "    accuracies[func] = prev\n",
    "    \n",
    "print(vals, accuracies)"
   ]
  },
  {
   "cell_type": "code",
   "execution_count": 22,
   "metadata": {
    "collapsed": false,
    "scrolled": true
   },
   "outputs": [
    {
     "name": "stdout",
     "output_type": "stream",
     "text": [
      "{'chebyshev': 0.10199999999999999, 'kulsinski': 0.10199999999999999, 'sqeuclidean': 0.10199999999999999, 'sokalmichener': 0.10199999999999999, 'dice': 0.10199999999999999, 'canberra': 0.10199999999999999, 'jaccard': 0.10199999999999999, 'minkowski': 0.10199999999999999, 'seuclidean': 0.10199999999999999, 'mahalanobis': 0.10199999999999999, 'braycurtis': 0.10199999999999999, 'yule': 0.10199999999999999, 'euclidean': 0.10199999999999999, 'russellrao': 0.10199999999999999, 'cosine': 0.10199999999999999, 'sokalsneath': 0.10199999999999999, 'hamming': 0.10199999999999999, 'correlation': 0.10199999999999999, 'cityblock': 0.10199999999999999, 'rogerstanimoto': 0.10199999999999999, 'matching': 0.10199999999999999}\n"
     ]
    }
   ],
   "source": [
    "accuracies = dict.fromkeys(functions)\n",
    "\n",
    "for func in functions:\n",
    "    k = 2\n",
    "    tra_acc = np.sum(knn_classify(training_data, training_data, training_labels, func, k) == training_labels) / np.float(len(training_labels))\n",
    "    tes_acc = np.sum(knn_classify(test_data, training_data, training_labels, func, k) == test_labels) / np.float(len(test_labels))\n",
    "\n",
    "    accuracies[func] = tes_acc\n",
    "    \n",
    "print(accuracies)"
   ]
  },
  {
   "cell_type": "code",
   "execution_count": null,
   "metadata": {
    "collapsed": true
   },
   "outputs": [],
   "source": []
  }
 ],
 "metadata": {
  "anaconda-cloud": {},
  "kernelspec": {
   "display_name": "Python 2",
   "language": "python",
   "name": "python2"
  },
  "language_info": {
   "codemirror_mode": {
    "name": "ipython",
    "version": 2
   },
   "file_extension": ".py",
   "mimetype": "text/x-python",
   "name": "python",
   "nbconvert_exporter": "python",
   "pygments_lexer": "ipython2",
   "version": "2.7.13"
  }
 },
 "nbformat": 4,
 "nbformat_minor": 0
}
