{
 "cells": [
  {
   "cell_type": "markdown",
   "metadata": {},
   "source": [
    "# CSCI-UA 0473 - Introduction to Machine Learning\n",
    "## Wednesday, February 15, 2017"
   ]
  },
  {
   "cell_type": "code",
   "execution_count": 1,
   "metadata": {
    "collapsed": true
   },
   "outputs": [],
   "source": [
    "%matplotlib inline \n",
    "\n",
    "import autograd.numpy as numpy\n",
    "import autograd.numpy.random as npr\n",
    "\n",
    "from autograd import grad\n",
    "\n",
    "import scipy.optimize\n",
    "import matplotlib.pyplot as plot\n",
    "\n",
    "import matplotlib\n",
    "\n",
    "numpy.random.seed(1234)"
   ]
  },
  {
   "cell_type": "markdown",
   "metadata": {},
   "source": [
    "## 1. Data Preparation"
   ]
  },
  {
   "cell_type": "code",
   "execution_count": 60,
   "metadata": {
    "collapsed": true
   },
   "outputs": [],
   "source": [
    "from sklearn.datasets import make_blobs\n",
    "n_dim = 2\n",
    "x_train, y_train = make_blobs(n_samples=100, n_features=n_dim, centers=[[1,1],[-1,-1]], shuffle=True)\n",
    "x_test, y_test = make_blobs(n_samples=100, n_features=n_dim, centers=[[1,1],[-1,-1]], shuffle=True)"
   ]
  },
  {
   "cell_type": "code",
   "execution_count": 61,
   "metadata": {
    "collapsed": true
   },
   "outputs": [],
   "source": [
    "y_train_svm = (y_train * 2) - 1\n",
    "y_test_svm = (y_test * 2) - 1\n",
    "\n",
    "y_train_lr = y_train.copy()\n",
    "y_test_lr = y_test.copy()"
   ]
  },
  {
   "cell_type": "code",
   "execution_count": 62,
   "metadata": {
    "collapsed": false
   },
   "outputs": [
    {
     "name": "stdout",
     "output_type": "stream",
     "text": [
      "[-1  1  1 -1 -1 -1 -1 -1  1  1 -1 -1 -1 -1  1 -1  1 -1 -1  1 -1 -1  1 -1 -1\n",
      " -1  1  1  1  1  1 -1 -1  1 -1 -1 -1  1  1 -1  1 -1  1 -1  1 -1  1  1  1  1\n",
      " -1  1  1  1 -1 -1  1 -1  1  1 -1 -1  1 -1 -1  1  1  1  1 -1  1 -1 -1  1  1\n",
      "  1  1  1  1 -1  1  1 -1  1  1 -1 -1 -1 -1 -1  1 -1 -1 -1 -1  1  1  1  1 -1]\n",
      "[0 1 1 0 0 0 0 0 1 1 0 0 0 0 1 0 1 0 0 1 0 0 1 0 0 0 1 1 1 1 1 0 0 1 0 0 0\n",
      " 1 1 0 1 0 1 0 1 0 1 1 1 1 0 1 1 1 0 0 1 0 1 1 0 0 1 0 0 1 1 1 1 0 1 0 0 1\n",
      " 1 1 1 1 1 0 1 1 0 1 1 0 0 0 0 0 1 0 0 0 0 1 1 1 1 0]\n"
     ]
    }
   ],
   "source": [
    "print (y_train_svm)\n",
    "print (y_train_lr)"
   ]
  },
  {
   "cell_type": "markdown",
   "metadata": {},
   "source": [
    "## 2. Models"
   ]
  },
  {
   "cell_type": "markdown",
   "metadata": {},
   "source": [
    "### 2.1 Logistic Regression"
   ]
  },
  {
   "cell_type": "code",
   "execution_count": 15,
   "metadata": {
    "collapsed": true
   },
   "outputs": [],
   "source": [
    "def sigmoid(a):\n",
    "    return 1. / (1. + numpy.exp(-a))\n",
    "\n",
    "def logreg(x, w, pre=False):\n",
    "    x = x.reshape([1, -1]) if len(x.shape) < 2 else x\n",
    "    \n",
    "    y = numpy.sum(x * w[None,:-1], axis=1) + w[-1]\n",
    "    if pre:\n",
    "        return y    \n",
    "    return sigmoid(y)\n",
    "\n",
    "def logreg_dist(y, x, w, avg=False):\n",
    "    y_ = logreg(x, w)\n",
    "    \n",
    "    d = -(y * numpy.log(y_ + 1e-12) + (1. - y) * numpy.log(1-y_ + 1e-12))\n",
    "    \n",
    "    if not avg:\n",
    "        return d\n",
    "    return numpy.mean(d)\n",
    "\n",
    "def logreg_cost(w, x, y):\n",
    "    return logreg_dist(y, x, w, avg=True)\n",
    "\n",
    "# Computing the gradient\n",
    "logreg_rule = grad(logreg_cost)\n",
    "\n",
    "def _logreg_dist(w, x, y, avg=False):\n",
    "    return logreg_dist(y, x, w, avg=avg), logreg_rule(w, x, y)"
   ]
  },
  {
   "cell_type": "markdown",
   "metadata": {},
   "source": [
    "### 2.2 SVM"
   ]
  },
  {
   "cell_type": "code",
   "execution_count": 16,
   "metadata": {
    "collapsed": true
   },
   "outputs": [],
   "source": [
    "def svm(x, w, pre=False):\n",
    "    x = x.reshape([1, -1]) if len(x.shape) < 2 else x\n",
    "    \n",
    "    y = numpy.sum(x * w[None,:-1], axis=1) + w[-1]\n",
    "    if pre:\n",
    "        return y    \n",
    "    return numpy.sign(y)\n",
    "\n",
    "def svm_dist(y, x, w, avg=False, pre=False):\n",
    "    y_ = svm(x, w, pre=True)   # y_ = w.x\n",
    "    \n",
    "    if pre:\n",
    "        return 1. - y_ * y\n",
    "    \n",
    "    d = numpy.maximum(0., 1. - y_ * y)  # Hinge loss\n",
    "    \n",
    "    if not avg:\n",
    "        return d\n",
    "    \n",
    "    return numpy.sum(d) + numpy.sum(w**2)\n",
    "\n",
    "def svm_cost(w, x, y):\n",
    "    return svm_dist(y, x, w, avg=True)\n",
    "\n",
    "svm_rule = grad(svm_cost)\n",
    "\n",
    "def _svm_dist(w, x, y, avg=False):\n",
    "    return svm_dist(y, x, w, avg=avg), svm_rule(w, x, y)"
   ]
  },
  {
   "cell_type": "markdown",
   "metadata": {},
   "source": [
    "## 3. Let's Train Both"
   ]
  },
  {
   "cell_type": "markdown",
   "metadata": {},
   "source": [
    "### 3.1 Logistic Regression"
   ]
  },
  {
   "cell_type": "code",
   "execution_count": 17,
   "metadata": {
    "collapsed": false
   },
   "outputs": [
    {
     "name": "stdout",
     "output_type": "stream",
     "text": [
      "[-1.87678752 -1.90027034 -0.14056429]\n"
     ]
    }
   ],
   "source": [
    "w0 = 0.01 * numpy.random.randn(n_dim+1); w0[-1] = 0.\n",
    "w = numpy.copy(w0)\n",
    "\n",
    "logreg_model = scipy.optimize.minimize(_logreg_dist, w0, (x_train, y_train_lr, True), method='L-BFGS-B', jac=True)\n",
    "\n",
    "w_logreg = logreg_model.x\n",
    "\n",
    "print (w_logreg)"
   ]
  },
  {
   "cell_type": "markdown",
   "metadata": {},
   "source": [
    "### 3.2 SVM"
   ]
  },
  {
   "cell_type": "code",
   "execution_count": 18,
   "metadata": {
    "collapsed": false
   },
   "outputs": [
    {
     "name": "stdout",
     "output_type": "stream",
     "text": [
      "[-0.79522195 -1.0295208  -0.18665059]\n"
     ]
    }
   ],
   "source": [
    "w0 = 1e-4 * npr.randn(n_dim+1); w0[-1] = 0.\n",
    "w = numpy.copy(w0)\n",
    "\n",
    "svm_model = scipy.optimize.minimize(_svm_dist, w0, (x_train, y_train_svm, True), \n",
    "                              method='L-BFGS-B', jac=True, options={'maxls': 100})\n",
    "\n",
    "w_svm = svm_model.x\n",
    "\n",
    "print (w_svm)"
   ]
  },
  {
   "cell_type": "markdown",
   "metadata": {},
   "source": [
    "## 4. Visualize LogReg and SVM models"
   ]
  },
  {
   "cell_type": "code",
   "execution_count": 19,
   "metadata": {
    "collapsed": true
   },
   "outputs": [],
   "source": [
    "# Visualize data \n",
    "def vis_data(x, y = None, c='r', title = ''):\n",
    "    if y is None: \n",
    "        y = [None] * len(x)\n",
    "    plot.hold('on')\n",
    "    for x_, y_ in zip(x, y):\n",
    "        if y_ is None:\n",
    "            plot.plot(x_[0], x_[1], 'o', markerfacecolor='none', markeredgecolor=c)\n",
    "        else:\n",
    "            plot.plot(x_[0], x_[1], c+'o' if y_ == 0 else c+'+')\n",
    "    plot.hold('off')\n",
    "    plot.grid('on')\n",
    "    plot.title(title)"
   ]
  },
  {
   "cell_type": "code",
   "execution_count": 20,
   "metadata": {
    "collapsed": true
   },
   "outputs": [],
   "source": [
    "def vis_hyperplane(w, typ='k--'):\n",
    "    plot.hold('on')\n",
    "\n",
    "    lim0 = plot.gca().get_xlim()\n",
    "    lim1 = plot.gca().get_ylim()\n",
    "    m0, m1 = lim0[0], lim0[1]\n",
    "\n",
    "    intercept0 = -(w[0] * m0 + w[-1])/w[1]\n",
    "    intercept1 = -(w[0] * m1 + w[-1])/w[1]\n",
    "    \n",
    "    plt1, = plot.plot([m0, m1], [intercept0, intercept1], typ)\n",
    "\n",
    "    plot.gca().set_xlim(lim0)\n",
    "    plot.gca().set_ylim(lim1)\n",
    "    \n",
    "    plot.hold('off')\n",
    "    \n",
    "    return plt1"
   ]
  },
  {
   "cell_type": "code",
   "execution_count": 21,
   "metadata": {
    "collapsed": false
   },
   "outputs": [
    {
     "data": {
      "image/png": "[encoded data removed]",
      "text/plain": [
       "<matplotlib.figure.Figure at 0x10bfafe90>"
      ]
     },
     "metadata": {},
     "output_type": "display_data"
    },
    {
     "name": "stdout",
     "output_type": "stream",
     "text": [
      "LogReg: -1.9 x_1 + -1.9 x_2 + -0.14 = 0\n",
      "SVM: -0.80 x_1 + -1.03 x_2 + -0.19 = 0\n"
     ]
    }
   ],
   "source": [
    "plot.figure()\n",
    "\n",
    "vis_data(x_train, y_train_lr, c='r')\n",
    "\n",
    "plt0 = vis_hyperplane(w_logreg, 'b--')\n",
    "plt1 = vis_hyperplane(w_svm, 'g--')\n",
    "\n",
    "plot.legend([plt0, plt1], ['LogReg', 'SVM'],\n",
    "           loc='best')\n",
    "\n",
    "plot.show()\n",
    "\n",
    "print ('LogReg: {:.2} x_1 + {:.2} x_2 + {:.2} = 0'.format(*list(w_logreg)))\n",
    "print ('SVM: {:.2f} x_1 + {:.2f} x_2 + {:.2f} = 0'.format(*list(w_svm)))"
   ]
  },
  {
   "cell_type": "markdown",
   "metadata": {},
   "source": [
    "### NOTE: Observe the decision boundaries of LogReg and SVM. Not much difference right? "
   ]
  },
  {
   "cell_type": "markdown",
   "metadata": {},
   "source": [
    "## 5. More data"
   ]
  },
  {
   "cell_type": "code",
   "execution_count": 63,
   "metadata": {
    "collapsed": true
   },
   "outputs": [],
   "source": [
    "x_train_more, y_train_more = make_blobs(n_samples=10, n_features=n_dim, centers=[[3, 3]], shuffle=True)\n",
    "x_test_more, y_test_more = make_blobs(n_samples=10, n_features=n_dim, centers=[[3, 3]], shuffle=True)"
   ]
  },
  {
   "cell_type": "code",
   "execution_count": 64,
   "metadata": {
    "collapsed": false
   },
   "outputs": [
    {
     "name": "stdout",
     "output_type": "stream",
     "text": [
      "[0 0 0 0 0 0 0 0 0 0]\n",
      "[1 1 1 1 1 1 1 1 1 1]\n"
     ]
    }
   ],
   "source": [
    "print (y_train_more)\n",
    "\n",
    "y_train_more[y_train_more == 0] = 1\n",
    "y_test_more[y_test_more == 0] = 1\n",
    "\n",
    "print (y_train_more)"
   ]
  },
  {
   "cell_type": "code",
   "execution_count": 65,
   "metadata": {
    "collapsed": false
   },
   "outputs": [],
   "source": [
    "# Append the new data points to the existing set of 100 training and test points\n",
    "\n",
    "x_train = numpy.vstack((x_train, x_train_more))\n",
    "x_test = numpy.vstack((x_test, x_test_more))\n",
    "\n",
    "y_train_lr = numpy.append(y_train_lr, y_train_more)\n",
    "y_test_lr = numpy.append(y_test_lr, y_test_more)\n",
    "\n",
    "y_train_svm = numpy.append(y_train_svm, (y_train_more * 2) - 1)\n",
    "y_test_svm = numpy.append(y_test_svm, (y_test_more * 2) - 1)"
   ]
  },
  {
   "cell_type": "code",
   "execution_count": 66,
   "metadata": {
    "collapsed": false
   },
   "outputs": [
    {
     "name": "stdout",
     "output_type": "stream",
     "text": [
      "('Number of training points: ', (110, 2))\n"
     ]
    }
   ],
   "source": [
    "print ('Number of training points: ', x_train.shape)"
   ]
  },
  {
   "cell_type": "code",
   "execution_count": 67,
   "metadata": {
    "collapsed": false
   },
   "outputs": [
    {
     "data": {
      "image/png": "[encoded data removed]",
      "text/plain": [
       "<matplotlib.figure.Figure at 0x10fd77550>"
      ]
     },
     "metadata": {},
     "output_type": "display_data"
    }
   ],
   "source": [
    "vis_data(x_train, y_train_lr, c='r')"
   ]
  },
  {
   "cell_type": "markdown",
   "metadata": {},
   "source": [
    "### 5.1 Training"
   ]
  },
  {
   "cell_type": "code",
   "execution_count": 68,
   "metadata": {
    "collapsed": false
   },
   "outputs": [
    {
     "name": "stdout",
     "output_type": "stream",
     "text": [
      "[-0.31655012 -0.36911198  0.4957013 ]\n",
      "[-0.46780998 -0.32478056  0.26307967]\n"
     ]
    }
   ],
   "source": [
    "######## Logistic Regression ########\n",
    "w0 = 0.01 * numpy.random.randn(n_dim+1); w0[-1] = 0.\n",
    "w = numpy.copy(w0)\n",
    "\n",
    "logreg_model = scipy.optimize.minimize(_logreg_dist, w0, (x_train, y_train_lr, True), method='L-BFGS-B', jac=True)\n",
    "\n",
    "w_logreg = logreg_model.x\n",
    "\n",
    "print (w_logreg)\n",
    "\n",
    "\n",
    "####### SVM #######\n",
    "w0 = 1e-4 * npr.randn(n_dim+1); w0[-1] = 0.\n",
    "w = numpy.copy(w0)\n",
    "\n",
    "svm_model = scipy.optimize.minimize(_svm_dist, w0, (x_train, y_train_svm, True), \n",
    "                              method='L-BFGS-B', jac=True, options={'maxls': 100})\n",
    "\n",
    "w_svm = svm_model.x\n",
    "\n",
    "print (w_svm)"
   ]
  },
  {
   "cell_type": "code",
   "execution_count": 69,
   "metadata": {
    "collapsed": false
   },
   "outputs": [
    {
     "data": {
      "image/png": "[encoded data removed]",
      "text/plain": [
       "<matplotlib.figure.Figure at 0x10f1d7d10>"
      ]
     },
     "metadata": {},
     "output_type": "display_data"
    },
    {
     "name": "stdout",
     "output_type": "stream",
     "text": [
      "LogReg: -0.32 x_1 + -0.37 x_2 + 0.5 = 0\n",
      "SVM: -0.47 x_1 + -0.32 x_2 + 0.26 = 0\n"
     ]
    }
   ],
   "source": [
    "plot.figure()\n",
    "\n",
    "vis_data(x_train, y_train_lr, c='r')\n",
    "\n",
    "plt0 = vis_hyperplane(w_logreg, 'b--')\n",
    "plt1 = vis_hyperplane(w_svm, 'g--')\n",
    "\n",
    "plot.legend([plt0, plt1], ['LogReg', 'SVM'],\n",
    "           loc='best')\n",
    "\n",
    "plot.show()\n",
    "\n",
    "print ('LogReg: {:.2} x_1 + {:.2} x_2 + {:.2} = 0'.format(*list(w_logreg)))\n",
    "print ('SVM: {:.2f} x_1 + {:.2f} x_2 + {:.2f} = 0'.format(*list(w_svm)))"
   ]
  },
  {
   "cell_type": "markdown",
   "metadata": {},
   "source": [
    "### KEY POINT: Logistic Regression is more sensitive to outliers than SVM"
   ]
  },
  {
   "cell_type": "markdown",
   "metadata": {},
   "source": [
    "## 6. Differences between Logistic Regression and SVM"
   ]
  },
  {
   "cell_type": "markdown",
   "metadata": {},
   "source": [
    "### a) Loss/Distance Function"
   ]
  },
  {
   "cell_type": "code",
   "execution_count": 72,
   "metadata": {
    "collapsed": false
   },
   "outputs": [
    {
     "data": {
      "text/plain": [
       "<matplotlib.image.AxesImage at 0x10f1e8bd0>"
      ]
     },
     "execution_count": 72,
     "metadata": {},
     "output_type": "execute_result"
    },
    {
     "data": {
      "image/png": "[encoded data removed]",
      "text/plain": [
       "<matplotlib.figure.Figure at 0x10ec1b190>"
      ]
     },
     "metadata": {},
     "output_type": "display_data"
    }
   ],
   "source": [
    "from scipy import misc\n",
    "plot.figure(figsize=(10, 8))\n",
    "plot.imshow(misc.imread('loss_functions.png'))"
   ]
  },
  {
   "cell_type": "markdown",
   "metadata": {},
   "source": [
    "### b) SVM considers only support vectors whereas Logistic Regression considers all the training points. "
   ]
  }
 ],
 "metadata": {
  "kernelspec": {
   "display_name": "Python 2",
   "language": "python",
   "name": "python2"
  },
  "language_info": {
   "codemirror_mode": {
    "name": "ipython",
    "version": 2
   },
   "file_extension": ".py",
   "mimetype": "text/x-python",
   "name": "python",
   "nbconvert_exporter": "python",
   "pygments_lexer": "ipython2",
   "version": "2.7.13"
  }
 },
 "nbformat": 4,
 "nbformat_minor": 0
}
