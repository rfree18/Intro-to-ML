{
 "cells": [
  {
   "cell_type": "markdown",
   "metadata": {},
   "source": [
    "# CSCI-UA 0473 - Introduction to Machine Learning\n",
    "## Wednesday, March 1, 2017"
   ]
  },
  {
   "cell_type": "code",
   "execution_count": 1,
   "metadata": {
    "collapsed": true
   },
   "outputs": [],
   "source": [
    "import numpy\n",
    "from pprint import pprint as pp\n",
    "from sklearn import datasets\n",
    "import pandas as pd"
   ]
  },
  {
   "cell_type": "markdown",
   "metadata": {},
   "source": [
    "## 1. Data"
   ]
  },
  {
   "cell_type": "code",
   "execution_count": 2,
   "metadata": {
    "collapsed": false
   },
   "outputs": [],
   "source": [
    "newsgroups_train = datasets.fetch_20newsgroups(subset='train', \n",
    "                                               categories=['comp.sys.mac.hardware', 'rec.motorcycles', 'sci.med', 'soc.religion.christian'])"
   ]
  },
  {
   "cell_type": "code",
   "execution_count": 3,
   "metadata": {
    "collapsed": true
   },
   "outputs": [],
   "source": [
    "newsgroups_test = datasets.fetch_20newsgroups(subset='test', \n",
    "                                               categories=['comp.sys.mac.hardware', 'rec.motorcycles', 'sci.med', 'soc.religion.christian'])"
   ]
  },
  {
   "cell_type": "code",
   "execution_count": 4,
   "metadata": {
    "collapsed": true
   },
   "outputs": [],
   "source": [
    "classes = ['comp.sys.mac.hardware', 'rec.motorcycles', 'sci.med', 'soc.religion.christian']"
   ]
  },
  {
   "cell_type": "markdown",
   "metadata": {},
   "source": [
    "## 2. Preprocessing"
   ]
  },
  {
   "cell_type": "code",
   "execution_count": 5,
   "metadata": {
    "collapsed": true
   },
   "outputs": [],
   "source": [
    "from sklearn.feature_extraction.text import TfidfVectorizer, CountVectorizer"
   ]
  },
  {
   "cell_type": "code",
   "execution_count": 6,
   "metadata": {
    "collapsed": false
   },
   "outputs": [],
   "source": [
    "count_vectorizer = CountVectorizer(min_df=30)\n",
    "count_vectors_train = count_vectorizer.fit_transform(newsgroups_train.data)\n",
    "count_vectors_test = count_vectorizer.transform(newsgroups_test.data)"
   ]
  },
  {
   "cell_type": "code",
   "execution_count": 7,
   "metadata": {
    "collapsed": true
   },
   "outputs": [],
   "source": [
    "tfidf_vectorizer = TfidfVectorizer(min_df=30)\n",
    "tfidf_vectors_train = tfidf_vectorizer.fit_transform(newsgroups_train.data)\n",
    "tfidf_vectors_test = tfidf_vectorizer.transform(newsgroups_test.data)"
   ]
  },
  {
   "cell_type": "code",
   "execution_count": 5,
   "metadata": {
    "collapsed": false
   },
   "outputs": [],
   "source": [
    "# How does the vocabulary look?\n",
    "\n",
    "# pp(vectorizer.vocabulary_)"
   ]
  },
  {
   "cell_type": "markdown",
   "metadata": {},
   "source": [
    "## 3. Modeling"
   ]
  },
  {
   "cell_type": "code",
   "execution_count": 8,
   "metadata": {
    "collapsed": true
   },
   "outputs": [],
   "source": [
    "from sklearn.linear_model import LogisticRegression\n",
    "lr = LogisticRegression()"
   ]
  },
  {
   "cell_type": "code",
   "execution_count": 9,
   "metadata": {
    "collapsed": false
   },
   "outputs": [
    {
     "data": {
      "text/plain": [
       "LogisticRegression(C=1.0, class_weight=None, dual=False, fit_intercept=True,\n",
       "          intercept_scaling=1, max_iter=100, multi_class='ovr', n_jobs=1,\n",
       "          penalty='l2', random_state=None, solver='liblinear', tol=0.0001,\n",
       "          verbose=0, warm_start=False)"
      ]
     },
     "execution_count": 9,
     "metadata": {},
     "output_type": "execute_result"
    }
   ],
   "source": [
    "lr.fit(count_vectors_train, newsgroups_train.target)"
   ]
  },
  {
   "cell_type": "code",
   "execution_count": 10,
   "metadata": {
    "collapsed": true
   },
   "outputs": [],
   "source": [
    "y_train = lr.predict(count_vectors_train)\n",
    "y_test = lr.predict(count_vectors_test)"
   ]
  },
  {
   "cell_type": "code",
   "execution_count": 11,
   "metadata": {
    "collapsed": false
   },
   "outputs": [
    {
     "name": "stdout",
     "output_type": "stream",
     "text": [
      "('Training Error: ', 0.0)\n"
     ]
    }
   ],
   "source": [
    "print (\"Training Error: \", float(numpy.sum(abs(y_train - newsgroups_train.target)))/len(newsgroups_train.target))"
   ]
  },
  {
   "cell_type": "code",
   "execution_count": 12,
   "metadata": {
    "collapsed": false
   },
   "outputs": [
    {
     "name": "stdout",
     "output_type": "stream",
     "text": [
      "('Test Error: ', 0.1293595434369055)\n"
     ]
    }
   ],
   "source": [
    "print (\"Test Error: \", float(numpy.sum(abs(y_test - newsgroups_test.target)))/len(newsgroups_test.target))"
   ]
  },
  {
   "cell_type": "markdown",
   "metadata": {},
   "source": [
    "## 4. Analysis"
   ]
  },
  {
   "cell_type": "code",
   "execution_count": 13,
   "metadata": {
    "collapsed": false
   },
   "outputs": [],
   "source": [
    "invocab = dict([(vv,kk) for kk, vv in count_vectorizer.vocabulary_.items()])"
   ]
  },
  {
   "cell_type": "code",
   "execution_count": 14,
   "metadata": {
    "collapsed": false
   },
   "outputs": [],
   "source": [
    "insens_idx = numpy.argsort(abs(lr.coef_[0:].squeeze()))\n",
    "ordered_idx = numpy.argsort(lr.coef_[0:].squeeze())"
   ]
  },
  {
   "cell_type": "code",
   "execution_count": 17,
   "metadata": {
    "collapsed": false
   },
   "outputs": [],
   "source": [
    "def class_analysis(ordering_object, sensitivity, class_name = 0):\n",
    "\n",
    "    if sensitivity:\n",
    "        print 'Sensitive to:'\n",
    "    else:\n",
    "        print ('Favours ' + classes[class_name])\n",
    "    print pd.DataFrame({'feature': pd.Series([invocab[f] for f in ordering_object[class_name][-10:]]), \n",
    "                        'coeff': lr.coef_[class_name, ordering_object[class_name][-10:]]}, columns = ['feature', 'coeff'])\n",
    "\n",
    "    if not sensitivity:\n",
    "        return\n",
    "    print\n",
    "\n",
    "    print 'Insensitive to:'\n",
    "    print pd.DataFrame({'feature': pd.Series([invocab[f] for f in ordering_object[class_name][:10]]), \n",
    "                        'coeff': lr.coef_[class_name, ordering_object[class_name][:10]]}, columns = ['feature', 'coeff'])\n",
    "    print"
   ]
  },
  {
   "cell_type": "code",
   "execution_count": 18,
   "metadata": {
    "collapsed": false
   },
   "outputs": [
    {
     "name": "stdout",
     "output_type": "stream",
     "text": [
      "Favours sci.med\n",
      "       feature     coeff\n",
      "0    sometimes  0.687912\n",
      "1       cancer  0.802050\n",
      "2       health  0.808605\n",
      "3    treatment  0.851945\n",
      "4         pitt  0.887686\n",
      "5          msg  0.925084\n",
      "6      medical  0.934476\n",
      "7      disease  1.061232\n",
      "8       doctor  1.324708\n",
      "9  information  1.330946\n"
     ]
    }
   ],
   "source": [
    "class_analysis(ordered_idx, sensitivity = False, class_name= 2)"
   ]
  },
  {
   "cell_type": "code",
   "execution_count": null,
   "metadata": {
    "collapsed": true
   },
   "outputs": [],
   "source": []
  }
 ],
 "metadata": {
  "anaconda-cloud": {},
  "kernelspec": {
   "display_name": "Python [Root]",
   "language": "python",
   "name": "Python [Root]"
  },
  "language_info": {
   "codemirror_mode": {
    "name": "ipython",
    "version": 2
   },
   "file_extension": ".py",
   "mimetype": "text/x-python",
   "name": "python",
   "nbconvert_exporter": "python",
   "pygments_lexer": "ipython2",
   "version": "2.7.12"
  }
 },
 "nbformat": 4,
 "nbformat_minor": 2
}
