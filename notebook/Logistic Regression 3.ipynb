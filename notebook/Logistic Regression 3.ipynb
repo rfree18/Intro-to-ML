{
 "cells": [
  {
   "cell_type": "markdown",
   "metadata": {},
   "source": [
    "# CSCI-UA 0473 - Introduction to Machine Learning\n",
    "## Wednesday, February 8, 2017"
   ]
  },
  {
   "cell_type": "markdown",
   "metadata": {},
   "source": [
    "## Logistic Regression \n",
    "\n",
    "### Key Points\n",
    "SETUP: We have a set of data points $\\{(x_{1}, y_{1}), (x_{2}, y_{2}), ... , (x_{n}, y_{n})\\}$, where $x_{i} \\in R^{d}$ are the feature vectors and $y_{i} \\in \\{0, 1\\}$ are the class labels.\n",
    "\n",
    "MODEL: $p_{+} = p(y = 1|x) = \\frac{1}{1 + e^{-w.x + b}}$, where $w, b \\in R^{d}$\n",
    "\n",
    "DISTANCE FUNCTION: -$(y * log(p_{+}) + (1 - y) * log(1 - p_{+}))$\n",
    "\n",
    "LEARNING RULE: $w \\leftarrow w - \\eta * (\\hat{y} - y) * x$"
   ]
  },
  {
   "cell_type": "code",
   "execution_count": 2,
   "metadata": {
    "collapsed": false
   },
   "outputs": [],
   "source": [
    "%matplotlib notebook \n",
    "\n",
    "import autograd.numpy as numpy\n",
    "import autograd.numpy.random as npr\n",
    "\n",
    "from autograd import grad\n",
    "\n",
    "import scipy.optimize\n",
    "import matplotlib.pyplot as plot"
   ]
  },
  {
   "cell_type": "code",
   "execution_count": 3,
   "metadata": {
    "collapsed": true
   },
   "outputs": [],
   "source": [
    "import matplotlib\n",
    "%matplotlib inline"
   ]
  },
  {
   "cell_type": "code",
   "execution_count": 4,
   "metadata": {
    "collapsed": true
   },
   "outputs": [],
   "source": [
    "npr.seed(1234)"
   ]
  },
  {
   "cell_type": "markdown",
   "metadata": {},
   "source": [
    "## 1. Data Preparation"
   ]
  },
  {
   "cell_type": "code",
   "execution_count": 5,
   "metadata": {
    "collapsed": false
   },
   "outputs": [],
   "source": [
    "from sklearn.datasets import make_blobs\n",
    "\n",
    "n_dim = 2\n",
    "x_train, y_train = make_blobs(n_samples=10, n_features=n_dim, centers=[[1,1],[-1,-1],[1,-1],[-1,1]], shuffle=True, cluster_std=0.5)\n",
    "x_test, y_test = make_blobs(n_samples=100, n_features=n_dim, centers=[[1,1],[-1,-1],[1,-1],[-1,1]], shuffle=True, cluster_std=0.5)\n",
    "\n",
    "# Preparing the class labels\n",
    "\n",
    "# Training data\n",
    "y_train[y_train == 2] = 0\n",
    "y_train[y_train == 3] = 1\n",
    "\n",
    "# Test data\n",
    "y_test[y_test == 2] = 0\n",
    "y_test[y_test == 3] = 1"
   ]
  },
  {
   "cell_type": "code",
   "execution_count": 6,
   "metadata": {
    "collapsed": true
   },
   "outputs": [],
   "source": [
    "# Visualize data \n",
    "def vis_data(x, y = None, c='r', title = ''):\n",
    "    if y is None: \n",
    "        y = [None] * len(x)\n",
    "#     plot.hold('on')\n",
    "    for x_, y_ in zip(x, y):\n",
    "        if y_ is None:\n",
    "            plot.plot(x_[0], x_[1], 'o', markerfacecolor='none', markeredgecolor=c)\n",
    "        else:\n",
    "            plot.plot(x_[0], x_[1], c+'o' if y_ == 0 else c+'+')\n",
    "#     plot.hold('off')\n",
    "    plot.grid('on')\n",
    "    plot.title(title)"
   ]
  },
  {
   "cell_type": "code",
   "execution_count": 7,
   "metadata": {
    "collapsed": false
   },
   "outputs": [
    {
     "data": {
      "image/png": "[encoded data removed]",
      "text/plain": [
       "<matplotlib.figure.Figure at 0x10d287550>"
      ]
     },
     "metadata": {},
     "output_type": "display_data"
    }
   ],
   "source": [
    "vis_data(x_train, y_train, title = 'Training Data')"
   ]
  },
  {
   "cell_type": "markdown",
   "metadata": {},
   "source": [
    "## 2. Model Definition"
   ]
  },
  {
   "cell_type": "code",
   "execution_count": 8,
   "metadata": {
    "collapsed": true
   },
   "outputs": [],
   "source": [
    "'''\n",
    "Sigmoid function.\n",
    "\n",
    "INPUT: A scalar/vector\n",
    "OUTPUT: A value between (0, 1) for each input component\n",
    "'''\n",
    "\n",
    "def sigmoid(a):\n",
    "    return 1. / (1. + numpy.exp(-a))"
   ]
  },
  {
   "cell_type": "code",
   "execution_count": 9,
   "metadata": {
    "collapsed": true
   },
   "outputs": [],
   "source": [
    "'''\n",
    "Definition of the logistic regression model.\n",
    "\n",
    "INPUT: Feature vector (x) and weight vector (w)\n",
    "OUTPUT: The probability of each data point belonging to the positive class.\n",
    "'''\n",
    "\n",
    "def logreg(x, w, pre=False):\n",
    "    x = x.reshape([1, -1]) if len(x.shape) < 2 else x\n",
    "    \n",
    "    y = numpy.sum(x * w[None,:-1], axis=1) + w[-1]\n",
    "    if pre:\n",
    "        return y    \n",
    "    return sigmoid(y)"
   ]
  },
  {
   "cell_type": "code",
   "execution_count": 20,
   "metadata": {
    "collapsed": true
   },
   "outputs": [],
   "source": [
    "'''\n",
    "Distance function of the logistic regression model (popularly called likelihood). \n",
    "\n",
    "INPUT: True labels (y), feature vector (x) and weight vector (w)\n",
    "OUTPUT: Log of the likelihood for the given 'w'\n",
    "'''\n",
    "\n",
    "def logreg_dist(y, x, w, avg=False):\n",
    "    y_ = logreg(x, w)\n",
    "    \n",
    "    d = -(y * numpy.log(y_ + 1e-12) + (1. - y) * numpy.log(1-y_ + 1e-12))\n",
    "    print(d)\n",
    "    \n",
    "    if not avg:\n",
    "        return d\n",
    "    return numpy.mean(d)"
   ]
  },
  {
   "cell_type": "code",
   "execution_count": 11,
   "metadata": {
    "collapsed": true
   },
   "outputs": [],
   "source": [
    "'''\n",
    "THIS IS WHAT WE HAD BEFORE!!\n",
    "\n",
    "Learning rule for the logistic regression model.\n",
    "\n",
    "INPUT: True labels (y), feature vector (x) and weight vector (w)\n",
    "OUTPUT: The direction of update for the weight vector\n",
    "'''\n",
    "\n",
    "def logreg_rule_defined_manually(y, x, w):\n",
    "    y_ = logreg(x, w)\n",
    "    dw = numpy.zeros(w.shape)\n",
    "    dw[:-1] = numpy.mean((y_ - y)[:, None] * x, axis=0)\n",
    "    dw[-1] = numpy.mean(y_ - y)\n",
    "    return dw"
   ]
  },
  {
   "cell_type": "code",
   "execution_count": 12,
   "metadata": {
    "collapsed": false
   },
   "outputs": [],
   "source": [
    "'''\n",
    "THANKS TO AUTOGRAD, THIS IS WHAT WE HAVE NOW!!\n",
    "\n",
    "Learning rule for the logistic regression model.\n",
    "\n",
    "INPUT: True labels (y), feature vector (x) and weight vector (w)\n",
    "OUTPUT: The direction of update for the weight vector\n",
    "'''\n",
    "\n",
    "def cost(w, x, y):\n",
    "    return logreg_dist(y, x, w, avg=True)\n",
    "\n",
    "# Computing the gradient\n",
    "logreg_rule = grad(cost)"
   ]
  },
  {
   "cell_type": "code",
   "execution_count": 13,
   "metadata": {
    "collapsed": true
   },
   "outputs": [],
   "source": [
    "def _logreg_dist(w, x, y, avg=False):\n",
    "    return logreg_dist(y, x, w, avg=avg), logreg_rule(w, x, y)"
   ]
  },
  {
   "cell_type": "markdown",
   "metadata": {},
   "source": [
    "## 3. Learning Process"
   ]
  },
  {
   "cell_type": "code",
   "execution_count": 19,
   "metadata": {
    "collapsed": false
   },
   "outputs": [
    {
     "name": "stdout",
     "output_type": "stream",
     "text": [
      "(10,)\n",
      "[ 0.69794602  0.69199545  0.70903916  0.72372862  0.69932617  0.68194944\n",
      "  0.71008981  0.68523013  0.68580333  0.69944283]\n",
      "(10,)\n",
      "Autograd ArrayNode with value [ 0.69794602  0.69199545  0.70903916  0.72372862  0.69932617  0.68194944\n",
      "  0.71008981  0.68523013  0.68580333  0.69944283] and 1 tape(s)\n",
      "(10,)\n",
      "[ 0.56968229  0.46456055  0.45253959  0.33354085  0.14523239  0.20786502\n",
      "  0.48251149  0.32092209  0.35165846  0.24360867]\n",
      "(10,)\n",
      "Autograd ArrayNode with value [ 0.56968229  0.46456055  0.45253959  0.33354085  0.14523239  0.20786502\n",
      "  0.48251149  0.32092209  0.35165846  0.24360867] and 1 tape(s)\n",
      "(10,)\n",
      "[ 0.31338105  0.24140702  0.24331903  0.07953068  0.03101909  0.06137162\n",
      "  0.14975802  0.24720537  0.16221528  0.08951789]\n",
      "(10,)\n",
      "Autograd ArrayNode with value [ 0.31338105  0.24140702  0.24331903  0.07953068  0.03101909  0.06137162\n",
      "  0.14975802  0.24720537  0.16221528  0.08951789] and 1 tape(s)\n",
      "(10,)\n",
      "[ 0.18531308  0.11616315  0.19449845  0.04221183  0.00802248  0.01286179\n",
      "  0.06714233  0.15709398  0.0587637   0.0390406 ]\n",
      "(10,)\n",
      "Autograd ArrayNode with value [ 0.18531308  0.11616315  0.19449845  0.04221183  0.00802248  0.01286179\n",
      "  0.06714233  0.15709398  0.0587637   0.0390406 ] and 1 tape(s)\n",
      "(10,)\n",
      "[ 0.12326316  0.07502751  0.07485637  0.00674669  0.00130837  0.00511625\n",
      "  0.02389326  0.09484745  0.0348345   0.01057035]\n",
      "(10,)\n",
      "Autograd ArrayNode with value [ 0.12326316  0.07502751  0.07485637  0.00674669  0.00130837  0.00511625\n",
      "  0.02389326  0.09484745  0.0348345   0.01057035] and 1 tape(s)\n",
      "(10,)\n",
      "[ 0.0654992   0.03019515  0.05740206  0.00334139  0.00024795  0.0007425\n",
      "  0.00960547  0.04944842  0.00973277  0.00372211]\n",
      "(10,)\n",
      "Autograd ArrayNode with value [ 0.0654992   0.03019515  0.05740206  0.00334139  0.00024795  0.0007425\n",
      "  0.00960547  0.04944842  0.00973277  0.00372211] and 1 tape(s)\n",
      "(10,)\n",
      "[  4.08076210e-02   1.63590088e-02   2.75919822e-02   8.19769607e-04\n",
      "   3.99405571e-05   1.95325136e-04   3.74993099e-03   2.57321889e-02\n",
      "   4.27817226e-03   1.04709715e-03]\n",
      "(10,)\n",
      "Autograd ArrayNode with value [  4.08076210e-02   1.63590088e-02   2.75919822e-02   8.19769607e-04\n",
      "   3.99405571e-05   1.95325136e-04   3.74993099e-03   2.57321889e-02\n",
      "   4.27817226e-03   1.04709715e-03] and 1 tape(s)\n",
      "(10,)\n",
      "[  2.12185164e-02   7.35519274e-03   1.48012864e-02   2.18984946e-04\n",
      "   6.88802206e-06   4.13552364e-05   1.19562092e-03   1.50626918e-02\n",
      "   1.54809899e-03   3.23458959e-04]\n",
      "(10,)\n",
      "Autograd ArrayNode with value [  2.12185164e-02   7.35519274e-03   1.48012864e-02   2.18984946e-04\n",
      "   6.88802206e-06   4.13552364e-05   1.19562092e-03   1.50626918e-02\n",
      "   1.54809899e-03   3.23458959e-04] and 1 tape(s)\n",
      "(10,)\n",
      "[  1.30758717e-02   3.63241272e-03   7.26239990e-03   5.83535451e-05\n",
      "   8.72719476e-07   7.99208896e-06   4.92140140e-04   6.29964928e-03\n",
      "   5.63441898e-04   7.80724464e-05]\n",
      "(10,)\n",
      "Autograd ArrayNode with value [  1.30758717e-02   3.63241272e-03   7.26239990e-03   5.83535451e-05\n",
      "   8.72719476e-07   7.99208896e-06   4.92140140e-04   6.29964928e-03\n",
      "   5.63441898e-04   7.80724464e-05] and 1 tape(s)\n",
      "(10,)\n",
      "[  5.79774555e-03   1.47728086e-03   3.66430139e-03   1.27414599e-05\n",
      "   1.54555390e-07   1.68257850e-06   1.19254094e-04   4.36640436e-03\n",
      "   1.95933090e-04   2.48542613e-05]\n",
      "(10,)\n",
      "Autograd ArrayNode with value [  5.79774555e-03   1.47728086e-03   3.66430139e-03   1.27414599e-05\n",
      "   1.54555390e-07   1.68257850e-06   1.19254094e-04   4.36640436e-03\n",
      "   1.95933090e-04   2.48542613e-05] and 1 tape(s)\n",
      "(10,)\n",
      "[  3.69780291e-03   7.08805817e-04   1.69560929e-03   3.26292062e-06\n",
      "   1.47444422e-08   2.64278545e-07   5.23267147e-05   1.45228613e-03\n",
      "   6.42131301e-05   4.89485043e-06]\n",
      "(10,)\n",
      "Autograd ArrayNode with value [  3.69780291e-03   7.08805817e-04   1.69560929e-03   3.26292062e-06\n",
      "   1.47444422e-08   2.64278545e-07   5.23267147e-05   1.45228613e-03\n",
      "   6.42131301e-05   4.89485043e-06] and 1 tape(s)\n",
      "(10,)\n",
      "[  1.76339565e-03   3.00586639e-04   8.56334707e-04   7.57186585e-07\n",
      "   2.43697873e-09   5.43599418e-08   1.43864811e-05   8.96169720e-04\n",
      "   2.24846744e-05   1.47267497e-06]\n",
      "(10,)\n",
      "Autograd ArrayNode with value [  1.76339565e-03   3.00586639e-04   8.56334707e-04   7.57186585e-07\n",
      "   2.43697873e-09   5.43599418e-08   1.43864811e-05   8.96169720e-04\n",
      "   2.24846744e-05   1.47267497e-06] and 1 tape(s)\n",
      "(10,)\n",
      "[  9.82938686e-04   1.34663749e-04   4.14676224e-04   1.87820568e-07\n",
      "   2.89851698e-10   9.28373871e-09   5.13178026e-06   3.85315501e-04\n",
      "   7.41199784e-06   3.46061689e-07]\n",
      "(10,)\n",
      "Autograd ArrayNode with value [  9.82938686e-04   1.34663749e-04   4.14676224e-04   1.87820568e-07\n",
      "   2.89851698e-10   9.28373871e-09   5.13178026e-06   3.85315501e-04\n",
      "   7.41199784e-06   3.46061689e-07] and 1 tape(s)\n",
      "(10,)\n",
      "[  4.73099032e-04   5.70496481e-05   2.05307052e-04   4.26951555e-08\n",
      "   4.42483827e-11   1.84729066e-09   1.42742009e-06   2.27123054e-04\n",
      "   2.55935244e-06   9.95008141e-08]\n",
      "(10,)\n",
      "Autograd ArrayNode with value [  4.73099032e-04   5.70496481e-05   2.05307052e-04   4.26951555e-08\n",
      "   4.42483827e-11   1.84729066e-09   1.42742009e-06   2.27123054e-04\n",
      "   2.55935244e-06   9.95008141e-08] and 1 tape(s)\n",
      "(10,)\n",
      "[  2.52494030e-04   2.48515152e-05   1.01565357e-04   1.06184767e-08\n",
      "   4.74253969e-12   3.16833781e-10   4.79211020e-07   1.04814825e-04\n",
      "   8.34539659e-07   2.46149699e-08]\n",
      "(10,)\n",
      "Autograd ArrayNode with value [  2.52494030e-04   2.48515152e-05   1.01565357e-04   1.06184767e-08\n",
      "   4.74253969e-12   3.16833781e-10   4.79211020e-07   1.04814825e-04\n",
      "   8.34539659e-07   2.46149699e-08] and 1 tape(s)\n",
      "(10,)\n",
      "[  1.25010862e-04   1.05511118e-05   5.03290912e-05   2.48364107e-09\n",
      "  -1.69197989e-13   5.85803628e-11   1.40849209e-07   5.69463264e-05\n",
      "   2.80319817e-07   6.71733049e-09]\n",
      "(10,)\n",
      "Autograd ArrayNode with value [  1.25010862e-04   1.05511118e-05   5.03290912e-05   2.48364107e-09\n",
      "  -1.69197989e-13   5.85803628e-11   1.40849209e-07   5.69463264e-05\n",
      "   2.80319817e-07   6.71733049e-09] and 1 tape(s)\n",
      "(10,)\n",
      "[  6.47728487e-05   4.52091949e-06   2.50007318e-05   6.07238482e-10\n",
      "  -8.90842955e-13   9.36195566e-12   4.50966806e-08   2.75977031e-05\n",
      "   9.12104807e-08   1.70917236e-09]\n",
      "(10,)\n",
      "Autograd ArrayNode with value [  6.47728487e-05   4.52091949e-06   2.50007318e-05   6.07238482e-10\n",
      "  -8.90842955e-13   9.36195566e-12   4.50966806e-08   2.75977031e-05\n",
      "   9.12104807e-08   1.70917236e-09] and 1 tape(s)\n"
     ]
    }
   ],
   "source": [
    "w0 = 0.01 * numpy.random.randn(n_dim+1); w0[-1] = 0.\n",
    "w = numpy.copy(w0)\n",
    "trained_model = scipy.optimize.minimize(_logreg_dist, w0, (x_train, y_train, True), method='L-BFGS-B', jac=True)"
   ]
  },
  {
   "cell_type": "code",
   "execution_count": 16,
   "metadata": {
    "collapsed": false
   },
   "outputs": [
    {
     "ename": "NameError",
     "evalue": "name 'trained_model' is not defined",
     "output_type": "error",
     "traceback": [
      "\u001b[0;31m---------------------------------------------------------------------------\u001b[0m",
      "\u001b[0;31mNameError\u001b[0m                                 Traceback (most recent call last)",
      "\u001b[0;32m<ipython-input-16-ebc109af52b6>\u001b[0m in \u001b[0;36m<module>\u001b[0;34m()\u001b[0m\n\u001b[0;32m----> 1\u001b[0;31m \u001b[0;32mprint\u001b[0m \u001b[0;34m(\u001b[0m\u001b[0mtrained_model\u001b[0m\u001b[0;34m)\u001b[0m\u001b[0;34m\u001b[0m\u001b[0m\n\u001b[0m\u001b[1;32m      2\u001b[0m \u001b[0mw\u001b[0m \u001b[0;34m=\u001b[0m \u001b[0mtrained_model\u001b[0m\u001b[0;34m.\u001b[0m\u001b[0mx\u001b[0m\u001b[0;34m\u001b[0m\u001b[0m\n",
      "\u001b[0;31mNameError\u001b[0m: name 'trained_model' is not defined"
     ]
    }
   ],
   "source": [
    "print (trained_model)\n",
    "w = trained_model.x"
   ]
  },
  {
   "cell_type": "markdown",
   "metadata": {},
   "source": [
    "## 4. Visualize Final Model"
   ]
  },
  {
   "cell_type": "code",
   "execution_count": 37,
   "metadata": {
    "collapsed": true
   },
   "outputs": [],
   "source": [
    "def vis_hyperplane(w, typ='k--'):\n",
    "#     plot.hold('on')\n",
    "\n",
    "    lim0 = plot.gca().get_xlim()\n",
    "    lim1 = plot.gca().get_ylim()\n",
    "    m0, m1 = lim0[0], lim0[1]\n",
    "\n",
    "    intercept0 = -(w[0] * m0 + w[-1])/w[1]\n",
    "    intercept1 = -(w[0] * m1 + w[-1])/w[1]\n",
    "    \n",
    "    plt1, = plot.plot([m0, m1], [intercept0, intercept1], typ)\n",
    "\n",
    "    plot.gca().set_xlim(lim0)\n",
    "    plot.gca().set_ylim(lim1)\n",
    "    \n",
    "#     plot.hold('off')\n",
    "    \n",
    "    return plt1"
   ]
  },
  {
   "cell_type": "code",
   "execution_count": 38,
   "metadata": {
    "collapsed": false
   },
   "outputs": [
    {
     "data": {
      "image/png": "[encoded data removed]",
      "text/plain": [
       "<matplotlib.figure.Figure at 0x10f453d10>"
      ]
     },
     "metadata": {},
     "output_type": "display_data"
    }
   ],
   "source": [
    "plot.figure()\n",
    "\n",
    "vis_data(x_train, y_train, c='r', title = 'Training Data')\n",
    "\n",
    "plt0 = vis_hyperplane(w0, 'k-.')\n",
    "plt1 = vis_hyperplane(w, 'k--')\n",
    "plot.legend([plt0, plt1], [\n",
    "        'Initial: ${:.2} x_1 + {:.2} x_2 + {:.2} = 0$'.format(*list(w0)),\n",
    "        'Final: ${:.2f} x_1 + {:.2f} x_2 + {:.2f} = 0$'.format(*list(w))],\n",
    "           loc='best')\n",
    "\n",
    "plot.show()"
   ]
  },
  {
   "cell_type": "code",
   "execution_count": 23,
   "metadata": {
    "collapsed": true
   },
   "outputs": [],
   "source": [
    "def vis_decision_boundary_contour(w, typ='k--'):\n",
    "#     plot.hold('on')\n",
    "    \n",
    "    lim0 = plot.gca().get_xlim()\n",
    "    lim1 = plot.gca().get_ylim()\n",
    "    \n",
    "    x_ = numpy.linspace(lim0[0], lim0[1], 100)\n",
    "    y_ = numpy.linspace(lim1[0], lim1[1], 100)\n",
    "    xx, yy = numpy.meshgrid(x_, y_)\n",
    "    \n",
    "    x_tra_ = numpy.concatenate([xx.ravel()[:,None], yy.ravel()[:,None]], axis=1)\n",
    "    \n",
    "    pred = logreg(x_tra_, w)\n",
    "    plt1 = plot.contourf(xx, yy, pred.reshape(xx.shape), cmap=plot.cm.coolwarm, alpha=0.4)\n",
    "    \n",
    "    plot.colorbar(plt1)\n",
    "    \n",
    "    plot.gca().set_xlim(lim0)\n",
    "    plot.gca().set_ylim(lim1)\n",
    "    \n",
    "#     plot.hold('off')\n",
    "    \n",
    "    return plt1"
   ]
  },
  {
   "cell_type": "code",
   "execution_count": 24,
   "metadata": {
    "collapsed": false
   },
   "outputs": [
    {
     "data": {
      "image/png": "[encoded data removed]",
      "text/plain": [
       "<matplotlib.figure.Figure at 0x10ecd4850>"
      ]
     },
     "metadata": {},
     "output_type": "display_data"
    }
   ],
   "source": [
    "vis_data(x_train, y_train, c='r')\n",
    "\n",
    "plt1 = vis_decision_boundary_contour(w, 'k--')"
   ]
  },
  {
   "cell_type": "markdown",
   "metadata": {},
   "source": [
    "## 5. Testing"
   ]
  },
  {
   "cell_type": "code",
   "execution_count": 25,
   "metadata": {
    "collapsed": false
   },
   "outputs": [
    {
     "data": {
      "text/plain": [
       "<matplotlib.legend.Legend at 0x10f6dabd0>"
      ]
     },
     "execution_count": 25,
     "metadata": {},
     "output_type": "execute_result"
    },
    {
     "data": {
      "image/png": "[encoded data removed]",
      "text/plain": [
       "<matplotlib.figure.Figure at 0x10f43fe90>"
      ]
     },
     "metadata": {},
     "output_type": "display_data"
    }
   ],
   "source": [
    "vis_data(x_test, y_test, c='b')\n",
    "\n",
    "plt0 = vis_hyperplane(w0, 'k-.')\n",
    "plt1 = vis_hyperplane(w, 'k--')\n",
    "plot.legend([plt0, plt1], [\n",
    "        'Initial: ${:.2} x_1 + {:.2} x_2 + {:.2} = 0$'.format(*list(w0)),\n",
    "        'Final: ${:.2f} x_1 + {:.2f} x_2 + {:.2f} = 0$'.format(*list(w))],\n",
    "           loc='best')"
   ]
  },
  {
   "cell_type": "code",
   "execution_count": 26,
   "metadata": {
    "collapsed": false
   },
   "outputs": [
    {
     "name": "stdout",
     "output_type": "stream",
     "text": [
      "Training error rate 0.0, Test error rate 0.03\n"
     ]
    }
   ],
   "source": [
    "training_error = numpy.sum(numpy.abs(numpy.round(logreg(x_train, w)) - y_train)) / numpy.float(len(y_train))\n",
    "test_error = numpy.sum(numpy.abs(numpy.round(logreg(x_test, w)) - y_test)) / numpy.float(len(y_test))\n",
    "\n",
    "print ('Training error rate {}, Test error rate {}'.format(training_error, test_error))"
   ]
  },
  {
   "cell_type": "code",
   "execution_count": null,
   "metadata": {
    "collapsed": true
   },
   "outputs": [],
   "source": []
  }
 ],
 "metadata": {
  "anaconda-cloud": {},
  "kernelspec": {
   "display_name": "Python 2",
   "language": "python",
   "name": "python2"
  },
  "language_info": {
   "codemirror_mode": {
    "name": "ipython",
    "version": 2
   },
   "file_extension": ".py",
   "mimetype": "text/x-python",
   "name": "python",
   "nbconvert_exporter": "python",
   "pygments_lexer": "ipython2",
   "version": "2.7.13"
  }
 },
 "nbformat": 4,
 "nbformat_minor": 0
}
