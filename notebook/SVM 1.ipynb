{
 "cells": [
  {
   "cell_type": "markdown",
   "metadata": {},
   "source": [
    "# CSCI-UA 0473 - Introduction to Machine Learning\n",
    "## Wednesday, February 15, 2017"
   ]
  },
  {
   "cell_type": "code",
   "execution_count": 1,
   "metadata": {
    "collapsed": true
   },
   "outputs": [],
   "source": [
    "%matplotlib inline \n",
    "\n",
    "import autograd.numpy as numpy\n",
    "import autograd.numpy.random as npr\n",
    "\n",
    "from autograd import grad\n",
    "\n",
    "import scipy.optimize\n",
    "import matplotlib.pyplot as plot"
   ]
  },
  {
   "cell_type": "code",
   "execution_count": 2,
   "metadata": {
    "collapsed": true
   },
   "outputs": [],
   "source": [
    "import matplotlib"
   ]
  },
  {
   "cell_type": "code",
   "execution_count": 3,
   "metadata": {
    "collapsed": true
   },
   "outputs": [],
   "source": [
    "numpy.random.seed(1234)"
   ]
  },
  {
   "cell_type": "markdown",
   "metadata": {},
   "source": [
    "## 1. Data Preparation"
   ]
  },
  {
   "cell_type": "code",
   "execution_count": 4,
   "metadata": {
    "collapsed": false
   },
   "outputs": [],
   "source": [
    "from sklearn.datasets import make_blobs\n",
    "n_dim = 2\n",
    "x_train, y_train = make_blobs(n_samples=100, n_features=n_dim, centers=[[1,1],[-1,-1]], shuffle=True)\n",
    "x_test, y_test = make_blobs(n_samples=100, n_features=n_dim, centers=[[1,1],[-1,-1]], shuffle=True)"
   ]
  },
  {
   "cell_type": "code",
   "execution_count": 5,
   "metadata": {
    "collapsed": false
   },
   "outputs": [],
   "source": [
    "y_train = (y_train * 2) - 1\n",
    "y_test = (y_test * 2) - 1\n",
    "\n",
    "# Why are we doing this?"
   ]
  },
  {
   "cell_type": "markdown",
   "metadata": {},
   "source": [
    "## 2. Model Definition"
   ]
  },
  {
   "cell_type": "code",
   "execution_count": 6,
   "metadata": {
    "collapsed": true
   },
   "outputs": [],
   "source": [
    "'''\n",
    "Definition of the SVM model.\n",
    "\n",
    "INPUT: Feature vector (x) and weight vector (w)\n",
    "OUTPUT: The class to which each data point belongs to.\n",
    "'''\n",
    "\n",
    "def svm(x, w, pre=False):\n",
    "    x = x.reshape([1, -1]) if len(x.shape) < 2 else x\n",
    "    \n",
    "    y = numpy.sum(x * w[None,:-1], axis=1) + w[-1]\n",
    "    if pre:\n",
    "        return y    \n",
    "    return numpy.sign(y)"
   ]
  },
  {
   "cell_type": "code",
   "execution_count": 15,
   "metadata": {
    "collapsed": true
   },
   "outputs": [],
   "source": [
    "'''\n",
    "Distance function of the SVM model (popularly called Hinge Loss). \n",
    "\n",
    "INPUT: True labels (y), feature vector (x), weight vector (w) and constant (C)\n",
    "OUTPUT: Hinge loss distance values.\n",
    "'''\n",
    "\n",
    "def svm_dist(y, x, w, C, avg=False, pre=False):\n",
    "    y_ = svm(x, w, pre=True)   # y_ = w.x\n",
    "    \n",
    "    if pre:\n",
    "        return 1. - y_ * y\n",
    "    \n",
    "    d = numpy.maximum(0., 1. - y_ * y)  # Hinge loss\n",
    "    \n",
    "    if not avg:\n",
    "        return d\n",
    "    \n",
    "    return numpy.sum(d) + (C / 2.) * numpy.sum(w**2)"
   ]
  },
  {
   "cell_type": "code",
   "execution_count": 16,
   "metadata": {
    "collapsed": false
   },
   "outputs": [],
   "source": [
    "'''\n",
    "Let's use Autograd!\n",
    "'''\n",
    "\n",
    "def cost(w, x, y, C):\n",
    "    return svm_dist(y, x, w, C, avg=True)\n",
    "\n",
    "svm_rule = grad(cost)"
   ]
  },
  {
   "cell_type": "code",
   "execution_count": 17,
   "metadata": {
    "collapsed": true
   },
   "outputs": [],
   "source": [
    "def _svm_dist(w, x, y, C, avg=False):\n",
    "    return svm_dist(y, x, w, C, avg=avg), svm_rule(w, x, y, C)"
   ]
  },
  {
   "cell_type": "markdown",
   "metadata": {},
   "source": [
    "## 3. Training Procedure"
   ]
  },
  {
   "cell_type": "code",
   "execution_count": 44,
   "metadata": {
    "collapsed": false
   },
   "outputs": [],
   "source": [
    "w0 = 1e-4 * npr.randn(n_dim+1); w0[-1] = 0.\n",
    "w = numpy.copy(w0)\n",
    "\n",
    "res = scipy.optimize.minimize(_svm_dist, w0, (x_train, y_train, 1, True), \n",
    "                              method='L-BFGS-B', jac=True, options={'maxls': 100})   # maxls = ?"
   ]
  },
  {
   "cell_type": "code",
   "execution_count": 45,
   "metadata": {
    "collapsed": false
   },
   "outputs": [
    {
     "name": "stdout",
     "output_type": "stream",
     "text": [
      "      fun: 10.853221631758194\n",
      " hess_inv: <3x3 LbfgsInvHessProduct with dtype=float64>\n",
      "      jac: array([-0.55539745,  1.182418  , -0.75431382])\n",
      "  message: 'CONVERGENCE: REL_REDUCTION_OF_F_<=_FACTR*EPSMCH'\n",
      "     nfev: 105\n",
      "      nit: 21\n",
      "   status: 0\n",
      "  success: True\n",
      "        x: array([-1.95033417, -0.72107255,  0.24568618])\n"
     ]
    }
   ],
   "source": [
    "print (res)\n",
    "w = res.x"
   ]
  },
  {
   "cell_type": "code",
   "execution_count": 46,
   "metadata": {
    "collapsed": false
   },
   "outputs": [],
   "source": [
    "# visualize data \n",
    "def vis_data(x, y = None, c='r'):\n",
    "    if y is None: \n",
    "        y = [None] * len(x)\n",
    "    plot.hold('on')\n",
    "    for x_, y_ in zip(x, y):\n",
    "        if y_ is None:\n",
    "            plot.plot(x_[0], x_[1], 'o', markerfacecolor='none', markeredgecolor=c)\n",
    "        else:\n",
    "            plot.plot(x_[0], x_[1], c+'o' if y_ == -1 else c+'+')\n",
    "    plot.hold('off')\n",
    "    plot.grid('on')"
   ]
  },
  {
   "cell_type": "code",
   "execution_count": 47,
   "metadata": {
    "collapsed": true
   },
   "outputs": [],
   "source": [
    "def vis_hyperplane(w, typ='k--'):\n",
    "    plot.hold('on')\n",
    "\n",
    "    lim0 = plot.gca().get_xlim()\n",
    "    lim1 = plot.gca().get_ylim()\n",
    "    m0, m1 = lim0[0], lim0[1]\n",
    "\n",
    "    intercept0 = -(w[0] * m0 + w[-1])/w[1]\n",
    "    intercept1 = -(w[0] * m1 + w[-1])/w[1]\n",
    "    \n",
    "    plt1, = plot.plot([m0, m1], [intercept0, intercept1], typ)\n",
    "\n",
    "    plot.gca().set_xlim(lim0)\n",
    "    plot.gca().set_ylim(lim1)\n",
    "    \n",
    "    plot.hold('off')\n",
    "    \n",
    "    return plt1"
   ]
  },
  {
   "cell_type": "code",
   "execution_count": 48,
   "metadata": {
    "collapsed": true
   },
   "outputs": [],
   "source": [
    "def vis_sv(w):\n",
    "    d = svm_dist(y_train, x_train, w, 1, pre=True)  # What values will 'd' have?\n",
    "    \n",
    "    plot.hold('on')\n",
    "    \n",
    "    for dd, xx in zip(d, x_train):\n",
    "        if dd >= 0.:\n",
    "            plot.plot(xx[0], xx[1], '*')\n",
    "    \n",
    "    plot.hold('off')"
   ]
  },
  {
   "cell_type": "code",
   "execution_count": 49,
   "metadata": {
    "collapsed": false
   },
   "outputs": [
    {
     "data": {
      "image/png": "[encoded data removed]",
      "text/plain": [
       "<matplotlib.figure.Figure at 0x10e6d9c10>"
      ]
     },
     "metadata": {},
     "output_type": "display_data"
    }
   ],
   "source": [
    "plot.figure(figsize=(12, 8))\n",
    "\n",
    "vis_data(x_train, y_train, c='r')\n",
    "vis_sv(w)   # What is happening inside this function?\n",
    "\n",
    "plt0 = vis_hyperplane(w0, 'k-.')\n",
    "plt1 = vis_hyperplane(w, 'k--')\n",
    "plot.legend([plt0, plt1], [\n",
    "        'Initial: ${:.2} x_1 + {:.2} x_2 + {:.2} = 0$'.format(*list(w0)),\n",
    "        'Final: ${:.2f} x_1 + {:.2f} x_2 + {:.2f} = 0$'.format(*list(w))],\n",
    "           loc='best')\n",
    "\n",
    "plot.show()"
   ]
  },
  {
   "cell_type": "markdown",
   "metadata": {},
   "source": [
    "## 4. Testing"
   ]
  },
  {
   "cell_type": "code",
   "execution_count": 50,
   "metadata": {
    "collapsed": false
   },
   "outputs": [
    {
     "data": {
      "image/png": "[encoded data removed]",
      "text/plain": [
       "<matplotlib.figure.Figure at 0x11024fb50>"
      ]
     },
     "metadata": {},
     "output_type": "display_data"
    }
   ],
   "source": [
    "plot.figure()\n",
    "\n",
    "vis_data(x_test, y_test, c='r')\n",
    "vis_sv(w)   # What is happening inside this function?\n",
    "\n",
    "plt1 = vis_hyperplane(w, 'k--')\n",
    "plot.legend([plt1], [\n",
    "        'Initial: ${:.2} x_1 + {:.2} x_2 + {:.2} = 0$'.format(*list(w0)),\n",
    "        'Final: ${:.2f} x_1 + {:.2f} x_2 + {:.2f} = 0$'.format(*list(w))],\n",
    "           loc='best')\n",
    "\n",
    "plot.show()"
   ]
  },
  {
   "cell_type": "code",
   "execution_count": 51,
   "metadata": {
    "collapsed": false
   },
   "outputs": [
    {
     "name": "stdout",
     "output_type": "stream",
     "text": [
      "Training error rate 0.1, Test error rate 0.26\n"
     ]
    }
   ],
   "source": [
    "train_error = numpy.sum(numpy.abs(svm(x_train, w) - y_train)) / numpy.float(len(y_train))\n",
    "test_error = numpy.sum(numpy.abs(svm(x_test, w) - y_test)) / numpy.float(len(y_test))\n",
    "\n",
    "print 'Training error rate {}, Test error rate {}'.format(train_error, test_error)"
   ]
  },
  {
   "cell_type": "code",
   "execution_count": null,
   "metadata": {
    "collapsed": true
   },
   "outputs": [],
   "source": []
  }
 ],
 "metadata": {
  "anaconda-cloud": {},
  "kernelspec": {
   "display_name": "Python [Root]",
   "language": "python",
   "name": "Python [Root]"
  },
  "language_info": {
   "codemirror_mode": {
    "name": "ipython",
    "version": 2
   },
   "file_extension": ".py",
   "mimetype": "text/x-python",
   "name": "python",
   "nbconvert_exporter": "python",
   "pygments_lexer": "ipython2",
   "version": "2.7.12"
  }
 },
 "nbformat": 4,
 "nbformat_minor": 0
}
