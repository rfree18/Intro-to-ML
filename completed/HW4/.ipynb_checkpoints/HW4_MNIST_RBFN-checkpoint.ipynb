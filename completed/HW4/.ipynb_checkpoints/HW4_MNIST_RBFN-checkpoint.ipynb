{
 "cells": [
  {
   "cell_type": "markdown",
   "metadata": {},
   "source": [
    "# CSCI-UA 0473 - Introduction to Machine Learning\n",
    "## Homework 4"
   ]
  },
  {
   "cell_type": "markdown",
   "metadata": {},
   "source": [
    "The task for this homework is again that of handwritten digit recognition on the MNIST dataset. From the huge corpus of 70k images, I have sampled 3k images uniformly i.e. there are 300 images in each class.\n",
    "\n",
    "I have split the 3k samples into training set (2500 points) and test set (500 points) randomly. This experimental dataset is the same for all and I have provided the pickle files with the corresponding data.\n",
    "\n",
    "In this homework, you will be experimenting with different distance functions and number of bases used for the RBF Network. No complicated (or simple, for some) coding involved. Only play with the distance function and the number of bases.\n",
    "\n",
    "Conduct your experiments in a principled way to decide the best distance function according to you and the optimal value of number of bases for the best distance function. Use the accuracy score as the evaluation metric.\n",
    "\n",
    "Explain your approach clearly in the write-up.\n",
    "\n",
    "Report your experiment results using plots (preferably) or tables with the accuracies in the write-up.\n",
    "\n",
    "(EXTRA CREDITS) Come up with your own distance function, explain it clearly and provide the results from your distance function."
   ]
  },
  {
   "cell_type": "code",
   "execution_count": 1,
   "metadata": {
    "collapsed": true
   },
   "outputs": [],
   "source": [
    "import autograd.numpy as np\n",
    "from autograd import grad\n",
    "import scipy.optimize\n",
    "import scipy.spatial.distance\n",
    "import pickle\n",
    "\n",
    "import matplotlib.pyplot as plot\n",
    "%matplotlib inline"
   ]
  },
  {
   "cell_type": "markdown",
   "metadata": {},
   "source": [
    "## 1. Data"
   ]
  },
  {
   "cell_type": "code",
   "execution_count": 2,
   "metadata": {
    "collapsed": false
   },
   "outputs": [
    {
     "name": "stdout",
     "output_type": "stream",
     "text": [
      "('Training Data: ', (2500, 784))\n",
      "('Test Data: ', (500, 784))\n",
      "('Training Label Distribution: ', array([249, 253, 253, 246, 249, 248, 245, 244, 261, 252]))\n",
      "('Test Label Distribution: ', array([51, 47, 47, 54, 51, 52, 55, 56, 39, 48]))\n"
     ]
    }
   ],
   "source": [
    "training_data = pickle.load(open('training_data_hw4.p', 'rb'))\n",
    "training_labels = pickle.load(open('training_labels_hw4.p', 'rb'))\n",
    "\n",
    "test_data = pickle.load(open('test_data_hw4.p', 'rb'))\n",
    "test_labels = pickle.load(open('test_labels_hw4.p', 'rb'))\n",
    "\n",
    "\n",
    "print ('Training Data: ', training_data.shape)\n",
    "print ('Test Data: ', test_data.shape)\n",
    "\n",
    "print ('Training Label Distribution: ', np.bincount(training_labels))\n",
    "print ('Test Label Distribution: ', np.bincount(test_labels))"
   ]
  },
  {
   "cell_type": "markdown",
   "metadata": {},
   "source": [
    "## 2. RBF - Experiment Here"
   ]
  },
  {
   "cell_type": "code",
   "execution_count": 3,
   "metadata": {
    "collapsed": true
   },
   "outputs": [],
   "source": [
    "def rbf(x, bases, width=1., metric=\"euclidean\"):\n",
    "#     return np.exp(-(((x[:,None,:] - bases[None,:,:]) ** 2).sum(-1) / width))\n",
    "    return np.exp(-scipy.spatial.distance.cdist(x, bases, metric))"
   ]
  },
  {
   "cell_type": "code",
   "execution_count": 69,
   "metadata": {
    "collapsed": true
   },
   "outputs": [],
   "source": [
    "# Keep track of this variable for your computations. It's a global variable and it's value \n",
    "# will be reflected in many functions.\n",
    "\n",
    "n_bases = 1800"
   ]
  },
  {
   "cell_type": "markdown",
   "metadata": {},
   "source": [
    "## 3. Model Definition"
   ]
  },
  {
   "cell_type": "code",
   "execution_count": 5,
   "metadata": {
    "collapsed": false
   },
   "outputs": [],
   "source": [
    "'''\n",
    "Definition of the multinomial logistic regression model.\n",
    "\n",
    "INPUT: Feature vector (x) and weight matrix (w)\n",
    "OUTPUT: The probability of each data point belonging to each class. If you have 'm' data points and 'k' classes, this \n",
    "        function should return a matrix of dimension (m X k) with values in each row summing to 1, as per definition.\n",
    "'''\n",
    "\n",
    "def multinomial_logreg(x, w):  \n",
    "     \n",
    "    y = np.dot(x, w.reshape(n_bases, 10))\n",
    "    \n",
    "    y_ = np.exp(y)\n",
    "    \n",
    "    return y_ / y_.sum(axis=1, keepdims=True)"
   ]
  },
  {
   "cell_type": "code",
   "execution_count": 6,
   "metadata": {
    "collapsed": true
   },
   "outputs": [],
   "source": [
    "'''\n",
    "Distance function of the multinomial logistic regression model (popularly called cross-entropy loss). \n",
    "\n",
    "INPUT: True labels (y), feature vector (x) and weight vector (w)\n",
    "OUTPUT: Log of the likelihood for the given 'w'\n",
    "'''\n",
    "\n",
    "def multinomial_lr_distance(y, x, w):\n",
    "    y_pred = multinomial_logreg(x, w)\n",
    "    \n",
    "    distance = -(np.mean([y_pred[i, y[i]] for i in range(x.shape[0])]))\n",
    "    \n",
    "    return distance"
   ]
  },
  {
   "cell_type": "code",
   "execution_count": 7,
   "metadata": {
    "collapsed": false
   },
   "outputs": [],
   "source": [
    "def cost(w, x, y):\n",
    "    return multinomial_lr_distance(y, x, w)\n",
    "\n",
    "# Computing the gradient\n",
    "multinomial_lr_rule = grad(cost)"
   ]
  },
  {
   "cell_type": "code",
   "execution_count": 8,
   "metadata": {
    "collapsed": true
   },
   "outputs": [],
   "source": [
    "def _multinomial_lr_dist(w, x, y):\n",
    "    return multinomial_lr_distance(y, x, w), multinomial_lr_rule(w, x, y)"
   ]
  },
  {
   "cell_type": "markdown",
   "metadata": {
    "collapsed": true
   },
   "source": [
    "## 4. Training "
   ]
  },
  {
   "cell_type": "code",
   "execution_count": 71,
   "metadata": {
    "collapsed": false
   },
   "outputs": [],
   "source": [
    "# Select random centroids\n",
    "cids = np.random.permutation(len(training_data))[:n_bases]\n",
    "all_centroids = training_data[cids]\n",
    "\n",
    "x_tra_ = rbf(training_data, all_centroids, 1.) "
   ]
  },
  {
   "cell_type": "code",
   "execution_count": 10,
   "metadata": {
    "collapsed": false
   },
   "outputs": [
    {
     "data": {
      "text/plain": [
       "(2500, 1800)"
      ]
     },
     "execution_count": 10,
     "metadata": {},
     "output_type": "execute_result"
    }
   ],
   "source": [
    "x_tra_.shape"
   ]
  },
  {
   "cell_type": "code",
   "execution_count": 11,
   "metadata": {
    "collapsed": false
   },
   "outputs": [
    {
     "name": "stdout",
     "output_type": "stream",
     "text": [
      "(1800, 10)\n"
     ]
    }
   ],
   "source": [
    "w0 = 0.01 * np.random.randn(n_bases, 10); w0[:, -1] = 0.\n",
    "print w0.shape\n",
    "w = np.copy(w0)\n",
    "\n",
    "trained_model = scipy.optimize.minimize(_multinomial_lr_dist, w0, (x_tra_, training_labels), method='L-BFGS-B', jac=True)"
   ]
  },
  {
   "cell_type": "code",
   "execution_count": 12,
   "metadata": {
    "collapsed": false
   },
   "outputs": [],
   "source": [
    "w_learned = trained_model.x.reshape((n_bases, 10))"
   ]
  },
  {
   "cell_type": "code",
   "execution_count": 13,
   "metadata": {
    "collapsed": false
   },
   "outputs": [
    {
     "data": {
      "text/plain": [
       "(1800, 10)"
      ]
     },
     "execution_count": 13,
     "metadata": {},
     "output_type": "execute_result"
    }
   ],
   "source": [
    "w_learned.shape"
   ]
  },
  {
   "cell_type": "markdown",
   "metadata": {},
   "source": [
    "## 5. Play Area - Different Distance Functions and Number of Bases"
   ]
  },
  {
   "cell_type": "code",
   "execution_count": 14,
   "metadata": {
    "collapsed": true
   },
   "outputs": [],
   "source": [
    "y_train_pred = multinomial_logreg(x_tra_, w_learned)"
   ]
  },
  {
   "cell_type": "code",
   "execution_count": 15,
   "metadata": {
    "collapsed": false
   },
   "outputs": [
    {
     "name": "stdout",
     "output_type": "stream",
     "text": [
      "Train Accuracy (Euclidean):  0.7536\n"
     ]
    }
   ],
   "source": [
    "print 'Train Accuracy (Euclidean): ', np.sum(training_labels == np.argmax(y_train_pred, axis = 1)) * 1. / training_data.shape[0]"
   ]
  },
  {
   "cell_type": "markdown",
   "metadata": {},
   "source": [
    "## 6. Testing"
   ]
  },
  {
   "cell_type": "code",
   "execution_count": 72,
   "metadata": {
    "collapsed": false
   },
   "outputs": [
    {
     "name": "stderr",
     "output_type": "stream",
     "text": [
      "/Users/rossfreeman/anaconda2/lib/python2.7/site-packages/ipykernel/__main__.py:15: RuntimeWarning: invalid value encountered in divide\n"
     ]
    },
    {
     "name": "stdout",
     "output_type": "stream",
     "text": [
      "cosine\n"
     ]
    }
   ],
   "source": [
    "# WRITE CODE TO FIND THE TEST ACCURACY USING YOUR EXPERIMENTAL SETUP\n",
    "functions = [\"braycurtis\", \"canberra\", \"chebyshev\", \"cityblock\", \"correlation\", \"cosine\", \"dice\", \"euclidean\", \"hamming\", \"jaccard\", \"kulsinski\", \"matching\", \"minkowski\", \"rogerstanimoto\", \"russellrao\", \"seuclidean\", \"sokalmichener\", \"sokalsneath\", \"sqeuclidean\", \"yule\"]\n",
    "\n",
    "max_val = 0\n",
    "max_fun = \"\"\n",
    "k = 1\n",
    "\n",
    "for func in functions:\n",
    "    x_tra_ = rbf(training_data, all_centroids, 1., func) \n",
    "    trained_model = scipy.optimize.minimize(_multinomial_lr_dist, w0, (x_tra_, training_labels), method='L-BFGS-B', jac=True)\n",
    "    w_learned = trained_model.x.reshape((n_bases, 10))\n",
    "    y_train_pred = multinomial_logreg(x_tra_, w_learned)\n",
    "    \n",
    "    tes_acc = np.sum(training_labels == np.argmax(y_train_pred, axis = 1)) * 1. / training_data.shape[0]\n",
    "    if(tes_acc > max_val):\n",
    "        max_val = tes_acc\n",
    "        max_fun = func\n",
    "print(max_fun)"
   ]
  },
  {
   "cell_type": "code",
   "execution_count": 76,
   "metadata": {
    "collapsed": false
   },
   "outputs": [
    {
     "name": "stderr",
     "output_type": "stream",
     "text": [
      "/Users/rossfreeman/anaconda2/lib/python2.7/site-packages/ipykernel/__main__.py:15: RuntimeWarning: invalid value encountered in divide\n"
     ]
    }
   ],
   "source": [
    "max_val = 0\n",
    "max_k = 0\n",
    "acc = dict()\n",
    "\n",
    "for k in xrange(1900, 1950, 10):\n",
    "    n_bases = k\n",
    "    \n",
    "    cids = np.random.permutation(len(training_data))[:n_bases]\n",
    "    all_centroids = training_data[cids]\n",
    "    \n",
    "    w0 = 0.01 * np.random.randn(n_bases, 10); w0[:, -1] = 0.\n",
    "    w = np.copy(w0)\n",
    "    \n",
    "    x_tra_ = rbf(training_data, all_centroids, 1., max_fun) \n",
    "    trained_model = scipy.optimize.minimize(_multinomial_lr_dist, w0, (x_tra_, training_labels), method='L-BFGS-B', jac=True)\n",
    "    w_learned = trained_model.x.reshape((n_bases, 10))\n",
    "    x_test = rbf(test_data, all_centroids, 1., max_fun)\n",
    "    y_test_pred = multinomial_logreg(x_test, w_learned)\n",
    "    \n",
    "    tes_acc = np.sum(test_labels == np.argmax(y_test_pred, axis = 1)) * 1. / test_data.shape[0]\n",
    "    acc[k] = tes_acc\n",
    "    if(tes_acc > max_val):\n",
    "        max_val = tes_acc\n",
    "        max_k = k"
   ]
  },
  {
   "cell_type": "code",
   "execution_count": 77,
   "metadata": {
    "collapsed": false
   },
   "outputs": [
    {
     "name": "stdout",
     "output_type": "stream",
     "text": [
      "{1920: 0.078, 1940: 0.38600000000000001, 1930: 0.19600000000000001, 1900: 0.38, 1910: 0.19400000000000001}\n"
     ]
    },
    {
     "data": {
      "image/png": "[encoded data removed]",
      "text/plain": [
       "<matplotlib.figure.Figure at 0x113400950>"
      ]
     },
     "metadata": {},
     "output_type": "display_data"
    }
   ],
   "source": [
    "print(acc)\n",
    "plot.scatter(acc.keys(), acc.values())\n",
    "plot.show()"
   ]
  },
  {
   "cell_type": "code",
   "execution_count": 73,
   "metadata": {
    "collapsed": false
   },
   "outputs": [
    {
     "name": "stdout",
     "output_type": "stream",
     "text": [
      "0.266\n"
     ]
    }
   ],
   "source": [
    "print(max_val)"
   ]
  },
  {
   "cell_type": "code",
   "execution_count": null,
   "metadata": {
    "collapsed": true
   },
   "outputs": [],
   "source": []
  }
 ],
 "metadata": {
  "kernelspec": {
   "display_name": "Python 2",
   "language": "python",
   "name": "python2"
  },
  "language_info": {
   "codemirror_mode": {
    "name": "ipython",
    "version": 2
   },
   "file_extension": ".py",
   "mimetype": "text/x-python",
   "name": "python",
   "nbconvert_exporter": "python",
   "pygments_lexer": "ipython2",
   "version": "2.7.13"
  }
 },
 "nbformat": 4,
 "nbformat_minor": 0
}
